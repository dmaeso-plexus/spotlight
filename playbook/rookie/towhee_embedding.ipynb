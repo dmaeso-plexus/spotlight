{
 "cells": [
  {
   "attachments": {},
   "cell_type": "markdown",
   "metadata": {},
   "source": [
    "# Create image embeddings with Towhee\n",
    "\n",
    "We use the [towhee library](https://github.com/towhee-io/towhee) to create an embedding for a an image dataset. \n",
    "\n",
    "More information about this play can be found in the Spotlight documentation: [Create image embeddings with the towhee library](https://renumics.com/docs/playbook/towhee-embedding)\n",
    "\n",
    "For more data-centric AI workflows, check out our [Awesome Open Data-centric AI](https://github.com/Renumics/awesome-open-data-centric-ai) list on Github."
   ]
  },
  {
   "attachments": {},
   "cell_type": "markdown",
   "metadata": {},
   "source": [
    "## tldr"
   ]
  },
  {
   "cell_type": "code",
   "execution_count": null,
   "metadata": {},
   "outputs": [],
   "source": [
    "# @title Install required packages with PIP\n",
    "!pip install renumics-spotlight towhee datasets"
   ]
  },
  {
   "cell_type": "code",
   "execution_count": null,
   "metadata": {},
   "outputs": [],
   "source": [
    "# @title Play as copy-n-paste functions\n",
    "\n",
    "import datasets\n",
    "from towhee import pipe, ops\n",
    "from renumics import spotlight\n",
    "import pandas as pd\n",
    "import requests\n",
    "import json\n",
    "\n",
    "\n",
    "def towhee_embedding(\n",
    "    df,\n",
    "    modelname=\"beit_base_patch16_224\",\n",
    "    image_name=\"image\",\n",
    "):\n",
    "    p = (\n",
    "        pipe.input(\"path\")\n",
    "        .map(\"path\", \"img\", ops.image_decode())\n",
    "        .map(\"img\", \"vec\", ops.image_embedding.timm(model_name=modelname))\n",
    "        .output(\"vec\")\n",
    "    )\n",
    "\n",
    "    data = df[image_name].tolist()\n",
    "\n",
    "    dc_embedding = p.batch(data)\n",
    "\n",
    "    df_emb = pd.DataFrame()\n",
    "    # towhee returns a list, we get the first (and only) element\n",
    "    df_emb[\"embedding\"] = [x.get()[0] for x in dc_embedding]\n",
    "\n",
    "    return df_emb"
   ]
  },
  {
   "attachments": {},
   "cell_type": "markdown",
   "metadata": {},
   "source": [
    "## Step-by-step example on CIFAR-100\n",
    "\n",
    "### Load CIFAR-100 from Huggingface hub and convert it to Pandas dataframe"
   ]
  },
  {
   "cell_type": "code",
   "execution_count": null,
   "metadata": {},
   "outputs": [],
   "source": [
    "dataset = datasets.load_dataset(\"renumics/cifar100-enriched\", split=\"train\")\n",
    "df = dataset.to_pandas()"
   ]
  },
  {
   "attachments": {},
   "cell_type": "markdown",
   "metadata": {},
   "source": [
    "### Compute embedding with vision transformer from towhee"
   ]
  },
  {
   "cell_type": "code",
   "execution_count": null,
   "metadata": {},
   "outputs": [],
   "source": [
    "# we only use a subset in this example in order to keep computation times low\n",
    "no_samples = 100\n",
    "df = df[:no_samples]\n",
    "df.drop(columns=[\"embedding\", \"embedding_reduced\"], inplace=True)\n",
    "\n",
    "df_emb = towhee_embedding(df, modelname=\"beit_base_patch16_224\")\n",
    "df = pd.concat([df, df_emb], axis=1)"
   ]
  },
  {
   "attachments": {},
   "cell_type": "markdown",
   "metadata": {},
   "source": [
    "### Reduce embeddings for faster visualization"
   ]
  },
  {
   "cell_type": "code",
   "execution_count": null,
   "metadata": {},
   "outputs": [],
   "source": [
    "import umap\n",
    "import numpy as np\n",
    "\n",
    "embeddings = np.stack(df[\"embedding\"].to_numpy())\n",
    "reducer = umap.UMAP()\n",
    "reduced_embedding = reducer.fit_transform(embeddings)\n",
    "df[\"embedding_reduced\"] = np.array(reduced_embedding).tolist()"
   ]
  },
  {
   "attachments": {},
   "cell_type": "markdown",
   "metadata": {},
   "source": [
    "### Perform EDA with Spotlight\n",
    "\n",
    "> ⚠️ Running Spotlight in Colab currently has severe limitations (slow, no similarity map, no layouts) due to Colab restrictions (e.g. no websocket support). Run the notebook locally for the full Spotlight experience"
   ]
  },
  {
   "cell_type": "code",
   "execution_count": null,
   "metadata": {},
   "outputs": [],
   "source": [
    "df_show = df.drop(columns=[\"embedding\", \"probabilities\"])\n",
    "\n",
    "\n",
    "# handle google colab differently\n",
    "import sys\n",
    "\n",
    "IN_COLAB = \"google.colab\" in sys.modules\n",
    "\n",
    "if IN_COLAB:\n",
    "    # visualization in Google Colab only works in chrome and does not support websockets, we need some hacks to visualize something\n",
    "    df_show[\"embx\"] = [emb[0] for emb in df_show[\"embedding_reduced\"]]\n",
    "    df_show[\"emby\"] = [emb[1] for emb in df_show[\"embedding_reduced\"]]\n",
    "    port = 50123\n",
    "    layout_url = \"https://raw.githubusercontent.com/Renumics/spotlight/main/playbook/rookie/embedding_layout_colab.json\"\n",
    "    response = requests.get(layout_url)\n",
    "    layout = spotlight.layout.nodes.Layout(**json.loads(response.text))\n",
    "    spotlight.show(df_show, port=port, dtype={\"image\": spotlight.Image}, layout=layout)\n",
    "    from google.colab.output import eval_js  # type: ignore\n",
    "\n",
    "    print(str(eval_js(f\"google.colab.kernel.proxyPort({port}, {{'cache': true}})\")))\n",
    "\n",
    "else:\n",
    "    df_show = df.drop(columns=[\"embedding\", \"probabilities\"])\n",
    "    layout_url = \"https://raw.githubusercontent.com/Renumics/spotlight/main/playbook/rookie/embedding_layout.json\"\n",
    "    response = requests.get(layout_url)\n",
    "    layout = spotlight.layout.nodes.Layout(**json.loads(response.text))\n",
    "    spotlight.show(\n",
    "        df_show,\n",
    "        dtype={\"image\": spotlight.Image, \"embedding_reduced\": spotlight.Embedding},\n",
    "        layout=layout,\n",
    "    )"
   ]
  }
 ],
 "metadata": {
  "kernelspec": {
   "display_name": ".venv",
   "language": "python",
   "name": "python3"
  },
  "language_info": {
   "codemirror_mode": {
    "name": "ipython",
    "version": 3
   },
   "file_extension": ".py",
   "mimetype": "text/x-python",
   "name": "python",
   "nbconvert_exporter": "python",
   "pygments_lexer": "ipython3",
   "version": "3.10.11"
  }
 },
 "nbformat": 4,
 "nbformat_minor": 2
}
