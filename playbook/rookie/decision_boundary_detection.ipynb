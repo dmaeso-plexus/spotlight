{
 "cells": [
  {
   "attachments": {},
   "cell_type": "markdown",
   "metadata": {},
   "source": [
    "# Create decision boundary \n",
    "\n",
    "We use certainty ratios to extract data samples that lie on a decision boundary. \n",
    "\n",
    "More information about this play can be found in the Spotlight documentation: [Detect decision boundaries](https://renumics.com/docs/playbook/decision-boundary)\n",
    "\n",
    "For more data-centric AI workflows, check out our [Awesome Open Data-centric AI](https://github.com/Renumics/awesome-open-data-centric-ai) list on Github."
   ]
  },
  {
   "attachments": {},
   "cell_type": "markdown",
   "metadata": {},
   "source": [
    "## tldr"
   ]
  },
  {
   "cell_type": "code",
   "execution_count": null,
   "metadata": {},
   "outputs": [],
   "source": [
    "#@title Install required packages with PIP\n",
    "\n",
    "!pip install renumics-spotlight datasets"
   ]
  },
  {
   "cell_type": "code",
   "execution_count": null,
   "metadata": {},
   "outputs": [],
   "source": [
    "#@title Play as copy-n-paste functions\n",
    "\n",
    "import datasets\n",
    "import numpy as np\n",
    "import pandas as pd\n",
    "from renumics import spotlight\n",
    "import requests\n",
    "import json\n",
    "\n",
    "def boundary_score(df, probabilities_name='probabilities'):\n",
    "    def compute_score(probs):      \n",
    "        indices=np.argsort(probs)[::-1]   \n",
    "        score = [indices[0], indices[1], probs[indices[0]],probs[indices[1]] ] \n",
    "     \n",
    "        return score\n",
    "    \n",
    "    df_out=pd.DataFrame()\n",
    "    temp_scores=[compute_score(x) for x in df[probabilities_name]] \n",
    "    df_out['decision_boundary_score']=[x[3]/x[2] for x in temp_scores]\n",
    "    df_out['decision_boundary_alternate_label']=[x[1] for x in temp_scores]\n",
    "    \n",
    "       \n",
    "    return df_out\n",
    "\n"
   ]
  },
  {
   "attachments": {},
   "cell_type": "markdown",
   "metadata": {},
   "source": [
    "## Step-by-step example on CIFAR-100\n",
    "\n",
    "### Load CIFAR-100 from Huggingface hub and convert it to Pandas dataframe"
   ]
  },
  {
   "cell_type": "code",
   "execution_count": null,
   "metadata": {},
   "outputs": [],
   "source": [
    "dataset = datasets.load_dataset(\"renumics/cifar100-enriched\", split=\"all\")\n",
    "\n",
    "df = dataset.to_pandas()"
   ]
  },
  {
   "attachments": {},
   "cell_type": "markdown",
   "metadata": {},
   "source": [
    "### Compute decision boundary score and alternate label"
   ]
  },
  {
   "cell_type": "code",
   "execution_count": null,
   "metadata": {},
   "outputs": [],
   "source": [
    "df_boundary = boundary_score(df)\n",
    "df = pd.concat([df, df_boundary], axis=1)\n",
    "df['decision_boundary_alternate_label_str']=[dataset.features[\"fine_label\"].int2str(x) for x in df['decision_boundary_alternate_label']]"
   ]
  },
  {
   "attachments": {},
   "cell_type": "markdown",
   "metadata": {},
   "source": [
    "### Inspect decision boundary with Spotlight\n",
    "\n",
    "> ⚠️ Running Spotlight in Colab currently has severe limitations (slow, no similarity map, no layouts) due to Colab restrictions (e.g. no websocket support). Run the notebook locally for the full Spotlight experience"
   ]
  },
  {
   "cell_type": "code",
   "execution_count": null,
   "metadata": {},
   "outputs": [],
   "source": [
    "df_show = df.drop(columns=['embedding', 'probabilities'])\n",
    "\n",
    "\n",
    "# handle google colab differently\n",
    "import sys\n",
    "IN_COLAB = 'google.colab' in sys.modules\n",
    "\n",
    "if IN_COLAB:\n",
    "    #visualization in Google Colab only works in chrome and does not support websockets, we need some hacks to visualize something\n",
    "    df_show=df_show[:10000]\n",
    "    df_show['embx'] =  [emb[0] for emb in df_show['embedding_reduced'] ]\n",
    "    df_show['emby'] =  [emb[1] for emb in df_show['embedding_reduced'] ]\n",
    "    port=50123\n",
    "    layout_url=\"https://raw.githubusercontent.com/Renumics/spotlight/main/playbook/rookie/decision_boundary_layout_colab.json\"\n",
    "    response = requests.get(layout_url)\n",
    "    layout = spotlight.layout.nodes.Layout(**json.loads(response.text))\n",
    "    spotlight.show(df_show, port=port, dtype={\"image\": spotlight.Image}, layout=layout)  \n",
    "    from google.colab.output import eval_js  # type: ignore\n",
    "    print(str(eval_js(f\"google.colab.kernel.proxyPort({port}, {{'cache': true}})\")))\n",
    "\n",
    "else:\n",
    "    df_show = df.drop(columns=['embedding', 'probabilities'])\n",
    "    layout_url=\"https://raw.githubusercontent.com/Renumics/spotlight/main/playbook/rookie/decision_boundary_layout.json\"\n",
    "    response = requests.get(layout_url)\n",
    "    layout = spotlight.layout.nodes.Layout(**json.loads(response.text))\n",
    "    spotlight.show(df_show, dtype={\"image\": spotlight.Image, \"embedding_reduced\": spotlight.Embedding}, layout=layout)"
   ]
  },
  {
   "cell_type": "code",
   "execution_count": null,
   "metadata": {},
   "outputs": [],
   "source": []
  }
 ],
 "metadata": {
  "kernelspec": {
   "display_name": "Python 3 (ipykernel)",
   "language": "python",
   "name": "python3"
  },
  "language_info": {
   "codemirror_mode": {
    "name": "ipython",
    "version": 3
   },
   "file_extension": ".py",
   "mimetype": "text/x-python",
   "name": "python",
   "nbconvert_exporter": "python",
   "pygments_lexer": "ipython3",
   "version": "3.10.11"
  }
 },
 "nbformat": 4,
 "nbformat_minor": 2
}
