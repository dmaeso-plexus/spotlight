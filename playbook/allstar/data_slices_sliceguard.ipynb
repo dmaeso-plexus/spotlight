{
 "cells": [
  {
   "attachments": {},
   "cell_type": "markdown",
   "metadata": {},
   "source": [
    "# Find data slices with Sliceguard\n",
    "\n",
    "We use [Sliceguard](https://github.com/Renumics/sliceguard) to identify data segments where our machine learning model performs anomalously (data slices). We interactively explore these data slices to find model failure modes and problematic data segments.\n",
    "\n",
    "More information about this play can be found in the Spotlight documentation: [Find typical image datasets with Cleanvision](https://renumics.com/docs/playbook/data-slices-sliceguard)\n",
    "\n",
    "For more data-centric AI workflows, check out our [Awesome Open Data-centric AI](https://github.com/Renumics/awesome-open-data-centric-ai) list on Github."
   ]
  },
  {
   "attachments": {},
   "cell_type": "markdown",
   "metadata": {},
   "source": [
    "## tldr"
   ]
  },
  {
   "cell_type": "code",
   "execution_count": null,
   "metadata": {},
   "outputs": [],
   "source": [
    "# @title Install required packages with PIP\n",
    "\n",
    "!pip install renumics-spotlight datasets cleanvision sliceguard"
   ]
  },
  {
   "cell_type": "code",
   "execution_count": null,
   "metadata": {},
   "outputs": [],
   "source": [
    "from sklearn.metrics import accuracy_score\n",
    "import pandas as pd\n",
    "import datasets\n",
    "from renumics.spotlight import Image\n",
    "from sliceguard import SliceGuard\n",
    "from cleanvision.imagelab import Imagelab\n",
    "\n",
    "\n",
    "def find_data_slices(\n",
    "    df,\n",
    "    categories,\n",
    "    category_types={},\n",
    "    spotlight_dtype={},\n",
    "    embedding_name=\"embedding\",\n",
    "    label_name=\"label\",\n",
    "    prediction_name=\"prediction\",\n",
    "):\n",
    "    sg = SliceGuard()\n",
    "    df_slices = sg.find_issues(\n",
    "        df,\n",
    "        categories,\n",
    "        label_name,\n",
    "        prediction_name,\n",
    "        accuracy_score,\n",
    "        precomputed_embeddings={\"embedding\": df[embedding_name].to_numpy()},\n",
    "        metric_mode=\"max\",\n",
    "        feature_types=category_types,\n",
    "    )\n",
    "\n",
    "    sg.report(spotlight_dtype=spotlight_dtype)\n",
    "\n",
    "    return df_slices"
   ]
  },
  {
   "attachments": {},
   "cell_type": "markdown",
   "metadata": {},
   "source": [
    "## Step-by-step example on CIFAR-100\n",
    "\n",
    "### Load CIFAR-100 from Huggingface hub and convert it to Pandas dataframe"
   ]
  },
  {
   "cell_type": "code",
   "execution_count": null,
   "metadata": {},
   "outputs": [],
   "source": [
    "import datasets\n",
    "from renumics import spotlight\n",
    "\n",
    "dataset = datasets.load_dataset(\"renumics/cifar100-enriched\", split=\"test\")\n",
    "\n",
    "df = dataset.to_pandas()"
   ]
  },
  {
   "attachments": {},
   "cell_type": "markdown",
   "metadata": {},
   "source": [
    "### Compute heuristics for typical image data error scores with Cleanvision"
   ]
  },
  {
   "cell_type": "code",
   "execution_count": null,
   "metadata": {},
   "outputs": [],
   "source": [
    "def cv_issues_cleanvision(df, image_name=\"image\"):\n",
    "    image_paths = df[\"image\"].to_list()\n",
    "    imagelab = Imagelab(filepaths=image_paths)\n",
    "    imagelab.find_issues()\n",
    "\n",
    "    df_cv = imagelab.issues.reset_index()\n",
    "\n",
    "    return df_cv\n",
    "\n",
    "\n",
    "df_cv = cv_issues_cleanvision(df)\n",
    "df = pd.concat([df, df_cv], axis=1)"
   ]
  },
  {
   "attachments": {},
   "cell_type": "markdown",
   "metadata": {},
   "source": [
    "### Inspect errors and detect problematic data slices with Sliceguard\n",
    "\n",
    "> ⚠️ Running Spotlight in Colab currently has severe limitations (slow, no similarity map, no layouts) due to Colab restrictions (e.g. no websocket support). Run the notebook locally for the full Spotlight experience."
   ]
  },
  {
   "cell_type": "code",
   "execution_count": null,
   "metadata": {},
   "outputs": [],
   "source": [
    "categories = [\n",
    "    \"dark_score\",\n",
    "    \"low_information_score\",\n",
    "    \"light_score\",\n",
    "    \"blurry_score\",\n",
    "    \"fine_label\",\n",
    "]\n",
    "prediction = \"fine_label_prediction\"\n",
    "label = \"fine_label\"\n",
    "category_types = {\"fine_label\": \"nominal\"}\n",
    "spotlight_dtype = {\"image\": Image}\n",
    "\n",
    "find_data_slices(\n",
    "    df,\n",
    "    categories,\n",
    "    category_types=category_types,\n",
    "    spotlight_dtype=spotlight_dtype,\n",
    "    embedding_name=\"embedding\",\n",
    "    label_name=label,\n",
    "    prediction_name=prediction,\n",
    ")"
   ]
  }
 ],
 "metadata": {
  "kernelspec": {
   "display_name": ".venv",
   "language": "python",
   "name": "python3"
  },
  "language_info": {
   "codemirror_mode": {
    "name": "ipython",
    "version": 3
   },
   "file_extension": ".py",
   "mimetype": "text/x-python",
   "name": "python",
   "nbconvert_exporter": "python",
   "pygments_lexer": "ipython3",
   "version": "3.10.11"
  }
 },
 "nbformat": 4,
 "nbformat_minor": 2
}
