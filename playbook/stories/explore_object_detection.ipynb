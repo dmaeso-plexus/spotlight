{
 "cells": [
  {
   "cell_type": "markdown",
   "metadata": {},
   "source": [
    "# How to Explore and Visualize ML-Data for Object Detection in Images\n",
    "## Use Ultralytics YOLOv8 detections and ViT embeddings to visualize and navigate the data in Renumics Spotlight 1.6.0\n",
    "This notebook is part of an [article at ITNEXT.](https://itnext.io/how-to-explore-and-visualize-ml-data-for-object-detection-in-images-88e074f46361)\n"
   ]
  },
  {
   "cell_type": "code",
   "execution_count": null,
   "metadata": {},
   "outputs": [],
   "source": [
    "# install the required packages\n",
    "!pip install fiftyone ultralytics renumics-spotlight"
   ]
  },
  {
   "cell_type": "code",
   "execution_count": null,
   "metadata": {},
   "outputs": [],
   "source": [
    "import pandas as pd\n",
    "import numpy as np\n",
    "\n",
    "import fiftyone.zoo as foz\n",
    "\n",
    "\n",
    "# download 1000 images from the COCO dataset with persons\n",
    "dataset = foz.load_zoo_dataset(\n",
    "    \"coco-2017\",\n",
    "    split=\"validation\",\n",
    "    label_types=[\n",
    "        \"detections\",\n",
    "    ],\n",
    "    classes=[\"person\"],\n",
    "    max_samples=1000,\n",
    "    dataset_name=\"coco-2017-person-1k-validations\",\n",
    ")"
   ]
  },
  {
   "cell_type": "code",
   "execution_count": null,
   "metadata": {},
   "outputs": [],
   "source": [
    "# prepare the data as a Pandas DataFrame, with the columns for filepath, categories of the bounding boxes, the bounding boxes,\n",
    "# the bounding boxes containing persons and the major category (despite persons) to specify the context of\n",
    "# the persons in the image\n",
    "def xywh_to_xyxyn(bbox):\n",
    "    \"\"\"convert from xywh to xyxyn format\"\"\"\n",
    "    return [bbox[0], bbox[1], bbox[0] + bbox[2], bbox[1] + bbox[3]]\n",
    "\n",
    "\n",
    "row = []\n",
    "for i, sample in enumerate(dataset):\n",
    "    labels = [detection.label for detection in sample.ground_truth.detections]\n",
    "    bboxs = [\n",
    "        xywh_to_xyxyn(detection.bounding_box)\n",
    "        for detection in sample.ground_truth.detections\n",
    "    ]\n",
    "    bboxs_persons = [bbox for bbox, label in zip(bboxs, labels) if label == \"person\"]\n",
    "    row.append([sample.filepath, labels, bboxs, bboxs_persons])\n",
    "\n",
    "df = pd.DataFrame(row, columns=[\"filepath\", \"categories\", \"bboxs\", \"bboxs_persons\"])\n",
    "df[\"major_category\"] = df[\"categories\"].apply(\n",
    "    lambda x: max(set(x) - set([\"person\"]), key=x.count)\n",
    "    if len(set(x)) > 1\n",
    "    else \"only person\"\n",
    ")"
   ]
  },
  {
   "cell_type": "code",
   "execution_count": null,
   "metadata": {},
   "outputs": [],
   "source": [
    "from renumics import spotlight\n",
    "\n",
    "spotlight.show(df)"
   ]
  },
  {
   "cell_type": "code",
   "execution_count": null,
   "metadata": {},
   "outputs": [],
   "source": [
    "# Enrich the data with Embeddings and show in spotlight\n",
    "spotlight.show(df, embed=[\"filepath\"])"
   ]
  },
  {
   "cell_type": "code",
   "execution_count": null,
   "metadata": {},
   "outputs": [],
   "source": [
    "# Results of pre-trained YOLOv8\n",
    "from ultralytics import YOLO\n",
    "\n",
    "detection_model = YOLO(\"yolov8n.pt\")\n",
    "\n",
    "detections = []\n",
    "for filepath in df[\"filepath\"].tolist():\n",
    "    detection = detection_model(filepath)[0]\n",
    "    detections.append(\n",
    "        {\n",
    "            \"yolo_bboxs\": [np.array(box.xyxyn.tolist())[0] for box in detection.boxes],\n",
    "            \"yolo_conf_persons\": np.mean(\n",
    "                [\n",
    "                    np.array(box.conf.tolist())[0]\n",
    "                    for box in detection.boxes\n",
    "                    if detection.names[int(box.cls)] == \"person\"\n",
    "                ]\n",
    "            ),\n",
    "            \"yolo_bboxs_persons\": [\n",
    "                np.array(box.xyxyn.tolist())[0]\n",
    "                for box in detection.boxes\n",
    "                if detection.names[int(box.cls)] == \"person\"\n",
    "            ],\n",
    "            \"yolo_categories\": np.array(\n",
    "                [np.array(detection.names[int(box.cls)]) for box in detection.boxes]\n",
    "            ),\n",
    "        }\n",
    "    )\n",
    "df_yolo = pd.DataFrame(detections)"
   ]
  },
  {
   "cell_type": "code",
   "execution_count": null,
   "metadata": {},
   "outputs": [],
   "source": [
    "# concat the results of YOLOv8 to the original DataFrame and show in spotlight\n",
    "df_merged = pd.concat([df, df_yolo], axis=1)\n",
    "spotlight.show(df_merged, embed=[\"filepath\"])"
   ]
  }
 ],
 "metadata": {
  "language_info": {
   "name": "python"
  }
 },
 "nbformat": 4,
 "nbformat_minor": 2
}
