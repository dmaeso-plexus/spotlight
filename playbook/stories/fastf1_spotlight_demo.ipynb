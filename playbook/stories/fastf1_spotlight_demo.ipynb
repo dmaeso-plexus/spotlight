{
 "cells": [
  {
   "cell_type": "markdown",
   "metadata": {},
   "source": [
    "# Analyzing Motorsports Data from the Ergast API\n",
    "\n",
    "## Loading the data with the fastf1 library\n"
   ]
  },
  {
   "cell_type": "code",
   "execution_count": null,
   "metadata": {},
   "outputs": [],
   "source": [
    "import fastf1\n",
    "\n",
    "session = fastf1.get_session(2023, \"Montreal\", \"Race\")\n",
    "\n",
    "session.load(telemetry=True, laps=True)\n",
    "\n",
    "laps = session.laps"
   ]
  },
  {
   "cell_type": "markdown",
   "metadata": {},
   "source": [
    "We want to analyze the data on a per-lap basis. The fastf1 library provides an API that does the necessary slicing and interpolation. We use this API to extract the sequences for Speed, RPM etc. per lap."
   ]
  },
  {
   "cell_type": "code",
   "execution_count": null,
   "metadata": {},
   "outputs": [],
   "source": [
    "import numpy as np\n",
    "import pandas as pd\n",
    "from tqdm import tqdm\n",
    "\n",
    "\n",
    "def extract_telemetry(laps, columns):\n",
    "    df_telemetry = pd.DataFrame(columns=columns)\n",
    "    row_dict = {}\n",
    "\n",
    "    for index, lap in tqdm(laps.iterlaps(), total=laps.shape[0]):\n",
    "        telemetry = lap.get_telemetry()\n",
    "        for column in columns:\n",
    "            row_dict[column] = [\n",
    "                telemetry[\"Distance\"].tolist(),\n",
    "                telemetry[column].tolist(),\n",
    "            ]\n",
    "        df_telemetry.loc[index] = row_dict\n",
    "\n",
    "    return df_telemetry\n",
    "\n",
    "\n",
    "columns = [\n",
    "    \"DistanceToDriverAhead\",\n",
    "    \"RPM\",\n",
    "    \"Speed\",\n",
    "    \"nGear\",\n",
    "    \"Throttle\",\n",
    "    \"Brake\",\n",
    "    \"DRS\",\n",
    "    \"X\",\n",
    "    \"Y\",\n",
    "    \"Z\",\n",
    "]\n",
    "df_telemetry = extract_telemetry(laps, columns)"
   ]
  },
  {
   "cell_type": "markdown",
   "metadata": {},
   "source": [
    "> We save the telemetry data as a Python list of list. This format is compatible with PyArrows. This means we can save the dataset as .parquet or we can convert it to a Hugging Face dataset. A 2D Numpy array is not supported by PyArrows.\n"
   ]
  },
  {
   "cell_type": "markdown",
   "metadata": {},
   "source": [
    "## Extracting normalized vectors and track visualizations\n",
    "\n",
    "We normalize the telemetry data to the track distance. In this way, we can use them as feature vectors for the dimensionality reduction in Spotlight."
   ]
  },
  {
   "cell_type": "code",
   "execution_count": null,
   "metadata": {},
   "outputs": [],
   "source": [
    "import numpy as np\n",
    "\n",
    "dist_index = np.array(list(range(-10, 4400, 5)))\n",
    "\n",
    "\n",
    "def extract_embeddings(laps, columns):\n",
    "    column_names = []\n",
    "    for column in columns:\n",
    "        column_names.append(column + \"_emb\")\n",
    "\n",
    "    df_embedding = pd.DataFrame(columns=column_names)\n",
    "    row_dict = {}\n",
    "\n",
    "    for index, lap in tqdm(laps.iterlaps(), total=laps.shape[0]):\n",
    "        telemetry = lap.get_telemetry()\n",
    "        for column in columns:\n",
    "            column_name = column + \"_emb\"\n",
    "            row_dict[column_name] = np.interp(\n",
    "                x=dist_index,\n",
    "                xp=telemetry[\"Distance\"].to_numpy(),\n",
    "                fp=telemetry[column].to_numpy(),\n",
    "            ).tolist()\n",
    "        df_embedding.loc[index] = row_dict\n",
    "\n",
    "    return df_embedding\n",
    "\n",
    "\n",
    "columns = [\"RPM\", \"Speed\", \"nGear\", \"Throttle\", \"Brake\", \"X\", \"Y\", \"Z\"]\n",
    "\n",
    "df_embedding = extract_embeddings(laps, columns)"
   ]
  },
  {
   "cell_type": "markdown",
   "metadata": {},
   "source": [
    "Next we build some visualizations for the speed and the gear shift and save them as images."
   ]
  },
  {
   "cell_type": "code",
   "execution_count": null,
   "metadata": {},
   "outputs": [],
   "source": [
    "import numpy as np\n",
    "\n",
    "import matplotlib.pyplot as plt\n",
    "from matplotlib.collections import LineCollection\n",
    "from matplotlib import cm\n",
    "import numpy as np\n",
    "import matplotlib as mpl\n",
    "\n",
    "from os import path\n",
    "\n",
    "\n",
    "# function to print the gear and speed map\n",
    "\n",
    "\n",
    "def create_speed_image(lapnumber, tel):\n",
    "    filename = \"imgs/speed/speed_vis_\" + str(lapnumber) + \".png\"\n",
    "\n",
    "    if path.isfile(filename):\n",
    "        return filename\n",
    "\n",
    "    colormap = mpl.cm.plasma\n",
    "    # Get telemetry data\n",
    "    x = np.array(tel[\"X\"].values)\n",
    "    y = np.array(tel[\"Y\"].values)\n",
    "    color = tel[\"Speed\"]  # value to base color gradient on\n",
    "\n",
    "    points = np.array([x, y]).T.reshape(-1, 1, 2)\n",
    "    segments = np.concatenate([points[:-1], points[1:]], axis=1)\n",
    "\n",
    "    # We create a plot with title and adjust some setting to make it look good.\n",
    "    fig, ax = plt.subplots(sharex=True, sharey=True, figsize=(12, 6.75))\n",
    "\n",
    "    # Adjust margins and turn of axis\n",
    "    plt.subplots_adjust(left=0.1, right=0.9, top=0.9, bottom=0.12)\n",
    "    ax.axis(\"off\")\n",
    "\n",
    "    # After this, we plot the data itself.\n",
    "    # Create background track line\n",
    "    ax.plot(tel[\"X\"], tel[\"Y\"], color=\"black\", linestyle=\"-\", linewidth=16, zorder=0)\n",
    "\n",
    "    # Create a continuous norm to map from data points to colors\n",
    "    norm = plt.Normalize(color.min(), color.max())\n",
    "    lc = LineCollection(segments, cmap=colormap, norm=norm, linestyle=\"-\", linewidth=5)\n",
    "\n",
    "    # Set the values used for colormapping\n",
    "    lc.set_array(color)\n",
    "\n",
    "    # Merge all line segments together\n",
    "    line = ax.add_collection(lc)\n",
    "\n",
    "    # Finally, we create a color bar as a legend.\n",
    "    cbaxes = fig.add_axes([0.25, 0.05, 0.5, 0.05])\n",
    "    normlegend = mpl.colors.Normalize(vmin=color.min(), vmax=color.max())\n",
    "    legend = mpl.colorbar.ColorbarBase(\n",
    "        cbaxes, norm=normlegend, cmap=colormap, orientation=\"horizontal\"\n",
    "    )\n",
    "\n",
    "    plt.savefig(filename, format=\"png\")\n",
    "\n",
    "    plt.clf()\n",
    "\n",
    "    plt.close(\"all\")\n",
    "\n",
    "    return filename\n",
    "\n",
    "\n",
    "def create_gear_image(lapnumber, tel):\n",
    "    filename = \"imgs/gears/gear_shift_vis_\" + str(lapnumber) + \".png\"\n",
    "\n",
    "    if path.isfile(filename):\n",
    "        return filename\n",
    "\n",
    "    x = np.array(tel[\"X\"].values)\n",
    "    y = np.array(tel[\"Y\"].values)\n",
    "\n",
    "    points = np.array([x, y]).T.reshape(-1, 1, 2)\n",
    "    segments = np.concatenate([points[:-1], points[1:]], axis=1)\n",
    "    gear = tel[\"nGear\"].to_numpy().astype(float)\n",
    "\n",
    "    cmap = cm.get_cmap(\"Paired\")\n",
    "    lc_comp = LineCollection(segments, norm=plt.Normalize(1, cmap.N + 1), cmap=cmap)\n",
    "    lc_comp.set_array(gear)\n",
    "    lc_comp.set_linewidth(4)\n",
    "\n",
    "    plt.gca().add_collection(lc_comp)\n",
    "    plt.axis(\"equal\")\n",
    "    plt.tick_params(labelleft=False, left=False, labelbottom=False, bottom=False)\n",
    "\n",
    "    cbar = plt.colorbar(mappable=lc_comp, label=\"Gear\", boundaries=np.arange(1, 10))\n",
    "    cbar.set_ticks(np.arange(1.5, 9.5))\n",
    "    cbar.set_ticklabels(np.arange(1, 9))\n",
    "\n",
    "    filename = \"imgs/gears/gear_shift_vis_\" + str(lapnumber) + \".png\"\n",
    "    plt.savefig(filename, format=\"png\")\n",
    "\n",
    "    plt.clf()\n",
    "\n",
    "    plt.close(\"all\")\n",
    "\n",
    "    return filename\n",
    "\n",
    "\n",
    "def extract_images(laps):\n",
    "    df_images = pd.DataFrame(columns=[\"gear_vis\", \"speed_vis\"])\n",
    "    row_dict = {}\n",
    "\n",
    "    for index, lap in tqdm(laps.iterlaps(), total=laps.shape[0]):\n",
    "        telemetry = lap.get_telemetry()\n",
    "        row_dict[\"gear_vis\"] = create_gear_image(index, telemetry)\n",
    "        row_dict[\"speed_vis\"] = create_speed_image(index, telemetry)\n",
    "        df_images.loc[index] = row_dict\n",
    "\n",
    "    return df_images\n",
    "\n",
    "\n",
    "df_images = extract_images(laps)"
   ]
  },
  {
   "cell_type": "markdown",
   "metadata": {},
   "source": [
    "## Visualize with Spotlight"
   ]
  },
  {
   "cell_type": "code",
   "execution_count": null,
   "metadata": {},
   "outputs": [],
   "source": [
    "# concat the dataframes\n",
    "\n",
    "df_metadata = pd.DataFrame(laps)\n",
    "df = pd.concat([df_metadata, df_telemetry, df_images, df_embedding], axis=1)"
   ]
  },
  {
   "cell_type": "code",
   "execution_count": null,
   "metadata": {},
   "outputs": [],
   "source": [
    "from renumics import spotlight\n",
    "from renumics.spotlight import dtypes\n",
    "\n",
    "# dtypes = {\"DistanceToDriverAhead\": spotlight.Sequence1D, \"RPM\": spotlight.Sequence1D, \"Speed\": spotlight.Sequence1D, \"nGear\": spotlight.Sequence1D,\n",
    "#    \"Throttle\": spotlight.Sequence1D, \"Brake\": spotlight.Sequence1D, \"DRS\": spotlight.Sequence1D, \"X\": spotlight.Sequence1D, \"Y\": spotlight.Sequence1D, \"Z\": spotlight.Sequence1D}\n",
    "\n",
    "spotlight.show(df)"
   ]
  },
  {
   "cell_type": "markdown",
   "metadata": {},
   "source": [
    "## Save as Hugging Face dataset"
   ]
  },
  {
   "cell_type": "code",
   "execution_count": null,
   "metadata": {},
   "outputs": [],
   "source": [
    "import datasets\n",
    "\n",
    "ds = datasets.Dataset.from_pandas(df)\n",
    "\n",
    "ds.save_to_disk(\"telemetry_test\")"
   ]
  },
  {
   "cell_type": "code",
   "execution_count": null,
   "metadata": {},
   "outputs": [],
   "source": [
    "dtypes = {\n",
    "    \"DistanceToDriverAhead\": spotlight.Sequence1D,\n",
    "    \"RPM\": spotlight.Sequence1D,\n",
    "    \"Speed\": spotlight.Sequence1D,\n",
    "    \"nGear\": spotlight.Sequence1D,\n",
    "    \"Throttle\": spotlight.Sequence1D,\n",
    "    \"Brake\": spotlight.Sequence1D,\n",
    "    \"DRS\": spotlight.Sequence1D,\n",
    "    \"X\": spotlight.Sequence1D,\n",
    "    \"Y\": spotlight.Sequence1D,\n",
    "    \"Z\": spotlight.Sequence1D,\n",
    "}\n",
    "\n",
    "spotlight.show(df, dtype=dtypes)"
   ]
  }
 ],
 "metadata": {
  "kernelspec": {
   "display_name": ".venv",
   "language": "python",
   "name": "python3"
  },
  "language_info": {
   "codemirror_mode": {
    "name": "ipython",
    "version": 3
   },
   "file_extension": ".py",
   "mimetype": "text/x-python",
   "name": "python",
   "nbconvert_exporter": "python",
   "pygments_lexer": "ipython3",
   "version": "3.10.11"
  }
 },
 "nbformat": 4,
 "nbformat_minor": 2
}
