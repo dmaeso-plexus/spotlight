{
 "cells": [
  {
   "cell_type": "markdown",
   "metadata": {},
   "source": [
    "## Navigating Data Issues\n",
    "This notebook is part of an [article at medium.](https://medium.com/@markus.stoll/navigate-data-issues-d05ae8c45841)\n"
   ]
  },
  {
   "cell_type": "code",
   "execution_count": null,
   "metadata": {},
   "outputs": [],
   "source": [
    "# install spotlight\n",
    "!pip install renumics-spotlight"
   ]
  },
  {
   "cell_type": "code",
   "execution_count": null,
   "metadata": {},
   "outputs": [],
   "source": [
    "# load the dataset from the huggingface hub\n",
    "import datasets\n",
    "\n",
    "ds = datasets.load_dataset(\"renumics/cifar100-enriched\", split=\"test\")\n",
    "df = ds.to_pandas()"
   ]
  },
  {
   "cell_type": "code",
   "execution_count": null,
   "metadata": {},
   "outputs": [],
   "source": [
    "# run cleablab to find label errors, outliers and duplicates\n",
    "import pandas as pd\n",
    "import numpy as np\n",
    "from cleanlab import Datalab\n",
    "\n",
    "lab = Datalab(data=df, label_name=\"fine_label\")\n",
    "features = np.array([x.tolist() for x in df[\"embedding\"]])\n",
    "pred_probs = np.array([x.tolist() for x in df[\"probabilities\"]])\n",
    "lab.find_issues(features=features, pred_probs=pred_probs)"
   ]
  },
  {
   "cell_type": "code",
   "execution_count": null,
   "metadata": {},
   "outputs": [],
   "source": [
    "# concat issues to df\n",
    "df = pd.concat([df, lab.get_issues()], axis=1)"
   ]
  },
  {
   "cell_type": "code",
   "execution_count": null,
   "metadata": {},
   "outputs": [],
   "source": [
    "# create data issues representations for the data issues found by cleanlab\n",
    "from renumics.spotlight.analysis import DataIssue\n",
    "\n",
    "label_issue_rows = df[df[\"is_label_issue\"]].sort_values(\"label_score\").index.tolist()\n",
    "label_issue = DataIssue(\n",
    "    severity=\"medium\",\n",
    "    title=\"label-issue\",\n",
    "    rows=label_issue_rows,\n",
    "    description=\"Label issue found by cleanlab - Review and correct if necessary\",\n",
    ")\n",
    "\n",
    "outlier_issue_row = (\n",
    "    df[df[\"outlier_score\"] < 0.6].sort_values(\"outlier_score\").index.tolist()\n",
    ")\n",
    "outlier_issue = DataIssue(\n",
    "    severity=\"medium\",\n",
    "    title=\"outlier-issue\",\n",
    "    rows=outlier_issue_row,\n",
    "    description=\"Outlier score < 0.6 - Review and remove or collect more data\",\n",
    ")\n",
    "\n",
    "near_duplicate_issue_row = (\n",
    "    df[df[\"is_near_duplicate_issue\"]].sort_values(\"near_duplicate_score\").index.tolist()\n",
    ")\n",
    "near_duplicate_issue = DataIssue(\n",
    "    severity=\"medium\",\n",
    "    title=\"near-duplicate-issue\",\n",
    "    rows=near_duplicate_issue_row,\n",
    "    description=\"Near duplicate issue found by cleanlab - Review and remove if necessary\",\n",
    ")"
   ]
  },
  {
   "cell_type": "code",
   "execution_count": null,
   "metadata": {},
   "outputs": [],
   "source": [
    "# explorer in Spotlight\n",
    "from renumics import spotlight\n",
    "\n",
    "dtypes = {\n",
    "    \"image\": spotlight.Image,\n",
    "    \"full_image\": spotlight.Image,\n",
    "    \"embedding\": spotlight.Embedding,\n",
    "    \"embedding_reduced\": spotlight.Embedding,\n",
    "    \"probabilities\": spotlight.Embedding,\n",
    "}\n",
    "\n",
    "\n",
    "spotlight.show(\n",
    "    df.rename(columns={\"fine_label_str\": \"label\", \"fine_label_prediction_str\": \"pred\"}),\n",
    "    dtype=dtypes,\n",
    "    layout=\"https://spotlight.renumics.com/resources/layout_data_issues.json\",\n",
    "    issues=[label_issue, outlier_issue, near_duplicate_issue],\n",
    ")"
   ]
  },
  {
   "cell_type": "markdown",
   "metadata": {},
   "source": [
    "Checkout the [article at TBD](https://medium.com/@markus.stoll) for more details."
   ]
  },
  {
   "cell_type": "markdown",
   "metadata": {},
   "source": []
  }
 ],
 "metadata": {
  "kernelspec": {
   "display_name": ".venv",
   "language": "python",
   "name": "python3"
  },
  "language_info": {
   "codemirror_mode": {
    "name": "ipython",
    "version": 3
   },
   "file_extension": ".py",
   "mimetype": "text/x-python",
   "name": "python",
   "nbconvert_exporter": "python",
   "pygments_lexer": "ipython3",
   "version": "3.10.12"
  }
 },
 "nbformat": 4,
 "nbformat_minor": 2
}
